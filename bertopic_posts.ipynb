{
 "cells": [
  {
   "cell_type": "code",
   "execution_count": 1,
   "id": "83914914",
   "metadata": {},
   "outputs": [
    {
     "name": "stderr",
     "output_type": "stream",
     "text": [
      "/Users/celia/Documents/Documents/Professional/UMN/2024-2025/6 SICSS-Stanford/ADHDer/path/to/venv/lib/python3.13/site-packages/tqdm/auto.py:21: TqdmWarning: IProgress not found. Please update jupyter and ipywidgets. See https://ipywidgets.readthedocs.io/en/stable/user_install.html\n",
      "  from .autonotebook import tqdm as notebook_tqdm\n"
     ]
    }
   ],
   "source": [
    "from bertopic import BERTopic\n",
    "import pandas as pd\n",
    "import re"
   ]
  },
  {
   "cell_type": "code",
   "execution_count": 8,
   "id": "61991e19",
   "metadata": {},
   "outputs": [],
   "source": [
    "df = pd.read_csv(\"ADHD_top1000posts_2020-03-01_2025-08-01.csv\")\n",
    "\n",
    "# append title with post_text as docs\n",
    "# some post_text are missing, we will fill them with the title\n",
    "df['docs'] = df['title'] + \" \" + df['post_text'].fillna('')"
   ]
  },
  {
   "cell_type": "code",
   "execution_count": 9,
   "id": "526906c3",
   "metadata": {},
   "outputs": [],
   "source": [
    "def preprocess_text(text: str) -> str:\n",
    "    # remove url\n",
    "    text = re.sub(r'http\\S+|www\\S+|https\\S+', '', text, flags=re.MULTILINE)\n",
    "\n",
    "    # remove \\n\n",
    "    text = re.sub(r'\\n+', ' ', text)\n",
    "    return text\n",
    "docs = df['docs'].apply(preprocess_text).to_list()\n"
   ]
  },
  {
   "cell_type": "code",
   "execution_count": 10,
   "id": "98664c15",
   "metadata": {},
   "outputs": [],
   "source": [
    "from bertopic import BERTopic\n",
    "from sklearn.feature_extraction.text import CountVectorizer\n",
    "\n",
    "vectorizer_model = CountVectorizer(stop_words=\"english\")\n",
    "topic_model = BERTopic(vectorizer_model=vectorizer_model)"
   ]
  },
  {
   "cell_type": "code",
   "execution_count": 11,
   "id": "ee1bf244",
   "metadata": {},
   "outputs": [
    {
     "name": "stderr",
     "output_type": "stream",
     "text": [
      "2025-08-12 16:28:51,203 - BERTopic - Embedding - Transforming documents to embeddings.\n",
      "Batches: 100%|██████████| 30/30 [00:09<00:00,  3.04it/s]\n",
      "2025-08-12 16:29:03,308 - BERTopic - Embedding - Completed ✓\n",
      "2025-08-12 16:29:03,309 - BERTopic - Dimensionality - Fitting the dimensionality reduction algorithm\n",
      "2025-08-12 16:29:04,595 - BERTopic - Dimensionality - Completed ✓\n",
      "2025-08-12 16:29:04,596 - BERTopic - Cluster - Start clustering the reduced embeddings\n",
      "2025-08-12 16:29:04,638 - BERTopic - Cluster - Completed ✓\n",
      "2025-08-12 16:29:04,647 - BERTopic - Representation - Fine-tuning topics using representation models.\n",
      "2025-08-12 16:29:04,789 - BERTopic - Representation - Completed ✓\n"
     ]
    },
    {
     "name": "stdout",
     "output_type": "stream",
     "text": [
      "    Topic  Count                        Name  \\\n",
      "0      -1    356           -1_to_and_the_you   \n",
      "1       0    121             0_to_and_do_the   \n",
      "2       1    102             1_to_and_the_my   \n",
      "3       2     71            2_adhd_the_of_to   \n",
      "4       3     58             3_to_and_the_my   \n",
      "5       4     50             4_and_my_the_to   \n",
      "6       5     29          5_the_shower_to_in   \n",
      "7       6     24             6_to_the_of_and   \n",
      "8       7     23              7_my_and_to_of   \n",
      "9       8     19            8_she_her_and_to   \n",
      "10      9     18   9_watch_watching_movie_tv   \n",
      "11     10     16  10_teeth_brushing_to_brush   \n",
      "12     11     14         11_and_my_this_that   \n",
      "13     12     12          12_you_and_to_that   \n",
      "14     13     12         13_the_in_my_fridge   \n",
      "15     14     11            14_and_is_the_to   \n",
      "\n",
      "                                       Representation  \\\n",
      "0      [to, and, the, you, my, it, of, for, that, is]   \n",
      "1       [to, and, do, the, im, of, it, my, just, you]   \n",
      "2     [to, and, the, my, of, that, for, it, she, you]   \n",
      "3   [adhd, the, of, to, and, that, is, it, they, h...   \n",
      "4       [to, and, the, my, it, of, in, that, so, you]   \n",
      "5       [and, my, the, to, of, in, so, for, it, this]   \n",
      "6   [the, shower, to, in, it, clothes, cleaning, a...   \n",
      "7     [to, the, of, and, is, that, adhd, you, we, in]   \n",
      "8    [my, and, to, of, im, the, in, hate, like, feel]   \n",
      "9     [she, her, and, to, the, it, was, my, me, that]   \n",
      "10  [watch, watching, movie, tv, to, show, the, is...   \n",
      "11  [teeth, brushing, to, brush, my, it, that, of,...   \n",
      "12  [and, my, this, that, to, miss, them, forget, ...   \n",
      "13  [you, and, to, that, of, it, emotions, the, ad...   \n",
      "14  [the, in, my, fridge, onion, lost, it, of, and...   \n",
      "15  [and, is, the, to, it, that, adhd, help, have,...   \n",
      "\n",
      "                                  Representative_Docs  \n",
      "0   [The painful cycle of initially charming peopl...  \n",
      "1   [I’m so over going to bed motivated, pumped, a...  \n",
      "2   [Pharmacist said they’re reporting me to the D...  \n",
      "3   [ADHD is not a cute or quirky personality trai...  \n",
      "4   [Out of all my difficulties with having ADHD, ...  \n",
      "5   [572 days later, I finished the Duolingo Chine...  \n",
      "6   [Don't worry about where items are \"supposed\" ...  \n",
      "7   [Career warning for people with ADHD: You migh...  \n",
      "8   [I have inattentive type ADHD and depression. ...  \n",
      "9   [I caught my girlfriend actually give a f.. I ...  \n",
      "10  [Do you not watch movies because the idea of c...  \n",
      "11  [I have an embarrassing achievement to announc...  \n",
      "12  [I love and hate that I don’t miss people. “If...  \n",
      "13  [Emotional Dysregulation should be discussed a...  \n",
      "14  [I lost an onion today. So I lost an onion tod...  \n",
      "15  [Hello, I've decided I no longer want to have ...  \n",
      "[('to', np.float64(0.042476357365436604)), ('and', np.float64(0.035552104173243025)), ('do', np.float64(0.03274995028798926)), ('the', np.float64(0.03145346553605712)), ('im', np.float64(0.02518768355474405)), ('of', np.float64(0.024004760828839813)), ('it', np.float64(0.023683103554804026)), ('my', np.float64(0.023469026520749166)), ('just', np.float64(0.023074585412251204)), ('you', np.float64(0.02299609101138739))]\n"
     ]
    }
   ],
   "source": [
    "topic_model = BERTopic(verbose=True)\n",
    "topics, probs = topic_model.fit_transform(docs)\n",
    "\n",
    "# frequent topics\n",
    "print(topic_model.get_topic_info())\n",
    "\n",
    "# view topic 0\n",
    "print(topic_model.get_topic(0))"
   ]
  }
 ],
 "metadata": {
  "kernelspec": {
   "display_name": "venv",
   "language": "python",
   "name": "python3"
  },
  "language_info": {
   "codemirror_mode": {
    "name": "ipython",
    "version": 3
   },
   "file_extension": ".py",
   "mimetype": "text/x-python",
   "name": "python",
   "nbconvert_exporter": "python",
   "pygments_lexer": "ipython3",
   "version": "3.13.5"
  }
 },
 "nbformat": 4,
 "nbformat_minor": 5
}
